{
 "cells": [
  {
   "cell_type": "code",
   "execution_count": 229,
   "metadata": {},
   "outputs": [],
   "source": [
    "from torch.distributions.normal import Normal\n",
    "from torch import tensor, sqrt\n",
    "import matplotlib.pyplot as plt\n",
    "from torchviz import make_dot\n",
    "\n",
    "%matplotlib inline"
   ]
  },
  {
   "cell_type": "code",
   "execution_count": 230,
   "metadata": {},
   "outputs": [],
   "source": [
    "class Model():\n",
    "    \n",
    "    def __init__(self):\n",
    "        self.w_mu = tensor([6.]) \n",
    "        self.w_var = tensor([0.03])\n",
    "        self.b_mu = tensor([6.])\n",
    "        self.b_var = tensor([0.03])\n",
    "        self.w = Normal(self.w_mu, sqrt(self.w_var))\n",
    "        self.b = Normal(self.b_mu, sqrt(self.b_var))\n",
    "        \n",
    "    def sample(self, x):\n",
    "        return self.w.sample() * x + self.b.sample()"
   ]
  },
  {
   "cell_type": "code",
   "execution_count": 231,
   "metadata": {},
   "outputs": [],
   "source": [
    "m = Model()"
   ]
  },
  {
   "cell_type": "code",
   "execution_count": 232,
   "metadata": {},
   "outputs": [
    {
     "data": {
      "text/plain": [
       "tensor([3.], requires_grad=True)"
      ]
     },
     "execution_count": 232,
     "metadata": {},
     "output_type": "execute_result"
    }
   ],
   "source": [
    "x = tensor([3.])\n",
    "x.requires_grad_()"
   ]
  },
  {
   "cell_type": "code",
   "execution_count": 233,
   "metadata": {},
   "outputs": [],
   "source": [
    "data = torch.tensor([m.sample(x) for _ in range(100000)])\n",
    "# w_prior = torch.tensor([m.w.sample() for _ in range(100000)])\n",
    "# b_prior = torch.tensor([m.b.sample() for _ in range(100000)])"
   ]
  },
  {
   "cell_type": "code",
   "execution_count": 234,
   "metadata": {},
   "outputs": [
    {
     "data": {
      "text/plain": [
       "(array([4.3000e+01, 6.8200e+02, 4.9050e+03, 1.7652e+04, 3.1739e+04,\n",
       "        2.8807e+04, 1.2982e+04, 2.8680e+03, 2.9900e+02, 2.3000e+01]),\n",
       " array([21.726149, 22.195393, 22.664635, 23.133879, 23.603123, 24.072365,\n",
       "        24.541609, 25.010853, 25.480097, 25.949339, 26.418583],\n",
       "       dtype=float32),\n",
       " <a list of 10 Patch objects>)"
      ]
     },
     "execution_count": 234,
     "metadata": {},
     "output_type": "execute_result"
    },
    {
     "data": {
      "image/png": "[encoded data removed]",
      "text/plain": [
       "<Figure size 432x288 with 1 Axes>"
      ]
     },
     "metadata": {
      "needs_background": "light"
     },
     "output_type": "display_data"
    }
   ],
   "source": [
    "plt.hist(data)"
   ]
  },
  {
   "cell_type": "code",
   "execution_count": 235,
   "metadata": {},
   "outputs": [
    {
     "data": {
      "text/plain": [
       "(tensor(24.0019), tensor([24.], grad_fn=<AddBackward0>))"
      ]
     },
     "execution_count": 235,
     "metadata": {},
     "output_type": "execute_result"
    }
   ],
   "source": [
    "data.mean(), x * m.w_mu + m.b_mu"
   ]
  },
  {
   "cell_type": "code",
   "execution_count": 236,
   "metadata": {},
   "outputs": [
    {
     "data": {
      "text/plain": [
       "(tensor(0.2987), tensor([0.3000], grad_fn=<AddBackward0>))"
      ]
     },
     "execution_count": 236,
     "metadata": {},
     "output_type": "execute_result"
    }
   ],
   "source": [
    "data.var(), (x**2) * m.w_var + m.b_var"
   ]
  },
  {
   "cell_type": "code",
   "execution_count": 204,
   "metadata": {},
   "outputs": [],
   "source": [
    "# plt.hist(w_prior)"
   ]
  },
  {
   "cell_type": "code",
   "execution_count": 245,
   "metadata": {},
   "outputs": [
    {
     "data": {
      "text/plain": [
       "tensor([23.8006], grad_fn=<AddBackward0>)"
      ]
     },
     "execution_count": 245,
     "metadata": {},
     "output_type": "execute_result"
    }
   ],
   "source": [
    "# plt.hist(b_prior)\n",
    "item = m.sample(x)\n",
    "item"
   ]
  },
  {
   "cell_type": "code",
   "execution_count": 246,
   "metadata": {},
   "outputs": [
    {
     "data": {
      "image/svg+xml": [
       "<?xml version=\"1.0\" encoding=\"UTF-8\" standalone=\"no\"?>\n",
       "<!DOCTYPE svg PUBLIC \"-//W3C//DTD SVG 1.1//EN\"\n",
       " \"http://www.w3.org/Graphics/SVG/1.1/DTD/svg11.dtd\">\n",
       "<!-- Generated by graphviz version 2.40.1 (20161225.0304)\n",
       " -->\n",
       "<!-- Title: %3 Pages: 1 -->\n",
       "<svg width=\"99pt\" height=\"154pt\"\n",
       " viewBox=\"0.00 0.00 99.31 154.00\" xmlns=\"http://www.w3.org/2000/svg\" xmlns:xlink=\"http://www.w3.org/1999/xlink\">\n",
       "<g id=\"graph0\" class=\"graph\" transform=\"scale(1 1) rotate(0) translate(4 150)\">\n",
       "<title>%3</title>\n",
       "<polygon fill=\"#ffffff\" stroke=\"transparent\" points=\"-4,4 -4,-150 95.3105,-150 95.3105,4 -4,4\"/>\n",
       "<!-- 4699246544 -->\n",
       "<g id=\"node1\" class=\"node\">\n",
       "<title>4699246544</title>\n",
       "<polygon fill=\"#caff70\" stroke=\"#000000\" points=\"91.4664,-20 -.1558,-20 -.1558,0 91.4664,0 91.4664,-20\"/>\n",
       "<text text-anchor=\"middle\" x=\"45.6553\" y=\"-6.4\" font-family=\"Times,serif\" font-size=\"12.00\" fill=\"#000000\">AddBackward0</text>\n",
       "</g>\n",
       "<!-- 4699246320 -->\n",
       "<g id=\"node2\" class=\"node\">\n",
       "<title>4699246320</title>\n",
       "<polygon fill=\"#d3d3d3\" stroke=\"#000000\" points=\"90.8044,-76 .5062,-76 .5062,-56 90.8044,-56 90.8044,-76\"/>\n",
       "<text text-anchor=\"middle\" x=\"45.6553\" y=\"-62.4\" font-family=\"Times,serif\" font-size=\"12.00\" fill=\"#000000\">MulBackward0</text>\n",
       "</g>\n",
       "<!-- 4699246320&#45;&gt;4699246544 -->\n",
       "<g id=\"edge1\" class=\"edge\">\n",
       "<title>4699246320&#45;&gt;4699246544</title>\n",
       "<path fill=\"none\" stroke=\"#000000\" d=\"M45.6553,-55.9883C45.6553,-48.9098 45.6553,-39.1714 45.6553,-30.4779\"/>\n",
       "<polygon fill=\"#000000\" stroke=\"#000000\" points=\"49.1554,-30.3038 45.6553,-20.3039 42.1554,-30.3039 49.1554,-30.3038\"/>\n",
       "</g>\n",
       "<!-- 4624121928 -->\n",
       "<g id=\"node3\" class=\"node\">\n",
       "<title>4624121928</title>\n",
       "<polygon fill=\"#add8e6\" stroke=\"#000000\" points=\"72.6553,-146 18.6553,-146 18.6553,-112 72.6553,-112 72.6553,-146\"/>\n",
       "<text text-anchor=\"middle\" x=\"45.6553\" y=\"-118.4\" font-family=\"Times,serif\" font-size=\"12.00\" fill=\"#000000\"> (1)</text>\n",
       "</g>\n",
       "<!-- 4624121928&#45;&gt;4699246320 -->\n",
       "<g id=\"edge2\" class=\"edge\">\n",
       "<title>4624121928&#45;&gt;4699246320</title>\n",
       "<path fill=\"none\" stroke=\"#000000\" d=\"M45.6553,-111.785C45.6553,-103.9703 45.6553,-94.6675 45.6553,-86.4951\"/>\n",
       "<polygon fill=\"#000000\" stroke=\"#000000\" points=\"49.1554,-86.2974 45.6553,-76.2974 42.1554,-86.2974 49.1554,-86.2974\"/>\n",
       "</g>\n",
       "</g>\n",
       "</svg>\n"
      ],
      "text/plain": [
       "<graphviz.dot.Digraph at 0x11818cf28>"
      ]
     },
     "execution_count": 246,
     "metadata": {},
     "output_type": "execute_result"
    }
   ],
   "source": []
  },
  {
   "cell_type": "code",
   "execution_count": null,
   "metadata": {},
   "outputs": [],
   "source": []
  }
 ],
 "metadata": {
  "kernelspec": {
   "display_name": "Python 3",
   "language": "python",
   "name": "python3"
  },
  "language_info": {
   "codemirror_mode": {
    "name": "ipython",
    "version": 3
   },
   "file_extension": ".py",
   "mimetype": "text/x-python",
   "name": "python",
   "nbconvert_exporter": "python",
   "pygments_lexer": "ipython3",
   "version": "3.7.2"
  }
 },
 "nbformat": 4,
 "nbformat_minor": 2
}
